{
 "cells": [
  {
   "cell_type": "code",
   "execution_count": 7,
   "metadata": {},
   "outputs": [],
   "source": [
    "from tensorflow.keras import utils\n",
    "import numpy as np\n",
    "from tensorflow.keras.preprocessing import image\n",
    "import matplotlib.pyplot as plt\n",
    "import string\n",
    "import warnings\n",
    "warnings.filterwarnings('ignore')\n",
    "from IPython.display import Image\n",
    "import os\n",
    "import random\n",
    "import cv2\n",
    "%matplotlib inline"
   ]
  },
  {
   "cell_type": "markdown",
   "metadata": {},
   "source": [
    "<div>\n",
    "    <img src=\"1.jpg\",width=100,height=100>\n",
    "    <img src=\"2.jpg\",width=100,height=100>\n",
    "    <img src=\"3.jpg\",width=100,height=100>\n",
    "    <img src=\"4.jpg\",width=100,height=100>\n",
    "</div>"
   ]
  },
  {
   "cell_type": "code",
   "execution_count": 2,
   "metadata": {},
   "outputs": [],
   "source": [
    "\"\"\"Загружаем фотки в массив\"\"\"\n",
    "\n",
    "X_train =[]\n",
    "for i in range(1, 5):\n",
    "    path = '{}.jpg'.format(i)\n",
    "    img = image.load_img(path, target_size=(10, 10), grayscale=True)\n",
    "    x = image.img_to_array(img)\n",
    "    x = x.reshape(100)\n",
    "    x = 255 - x\n",
    "    x /= 255\n",
    "    X_train.append(x)\n",
    "X_train = np.array(X_train)"
   ]
  },
  {
   "cell_type": "code",
   "execution_count": 24,
   "metadata": {},
   "outputs": [],
   "source": [
    "#Исскуственно добавляем шумы 4 картинке(Медведь)\n",
    "y = X_train[3]\n",
    "i = 0\n",
    "while (i < 20):\n",
    "    j = random.randint(1, 100)\n",
    "    y[j] = 1 if y[j] == -1 else -1\n",
    "    i += 1"
   ]
  },
  {
   "cell_type": "code",
   "execution_count": 25,
   "metadata": {},
   "outputs": [],
   "source": [
    "class Hopfield:\n",
    "    \"\"\"Класс, реализующий сеть Хопфилда\"\"\"\n",
    "    \n",
    "    def __init__(self, data):\n",
    "        \"\"\"Конструктор принимает на вход данные\"\"\"\n",
    "        self.X_train = data\n",
    "        self.objects = ['Олень', 'Коза', 'Лев', 'Медведь']\n",
    "        \n",
    "        # Преобразуем массив. 1 - если закрашен, -1 - если не закрашен\n",
    "        for i in range(len(self.X_train)):\n",
    "            for j in range(len(self.X_train[i])):\n",
    "                    self.X_train[i][j] = 1 if self.X_train[i][j] > 0 else -1\n",
    "        \n",
    "        # Создаем матрицу весов\n",
    "        self.w = np.zeros((100, 100))\n",
    "        for i in range(len(X_train)):\n",
    "            self.w += np.dot(X_train[i].reshape(100,1), X_train[i].reshape(1,100))\n",
    "        \n",
    "        # Главную Диагональ приравниваем нулю\n",
    "        for i in range(len(self.w)):\n",
    "            for j in range(len(self.w[i])):\n",
    "                self.w[i][j] = 0 if i == j else self.w[i][j]\n",
    "                \n",
    "    def func(self, x):\n",
    "        for i in range(len(x)):\n",
    "            x[i] = 1 if x[i] > 0 else -1\n",
    "        return (x)\n",
    "    \n",
    "    def train(self, epochs, y):\n",
    "        for i in range(epochs):\n",
    "            y = np.dot(self.w, y)\n",
    "            y = self.func(y)\n",
    "            \n",
    "    def predict(self):\n",
    "        \"\"\"Вывод предсказания сети\"\"\"\n",
    "        ans = []\n",
    "        for i in range(4):\n",
    "            count = 0\n",
    "            for x in range(len(y)):\n",
    "                if y[x] == X_train[i][x]:\n",
    "                    count += 1\n",
    "            ans.append(count/100)\n",
    "        print(ans)\n",
    "        return self.objects[np.argmax(ans)]"
   ]
  },
  {
   "cell_type": "code",
   "execution_count": 26,
   "metadata": {},
   "outputs": [],
   "source": [
    "network = Hopfield(X_train)\n",
    "network.train(5, y)"
   ]
  },
  {
   "cell_type": "code",
   "execution_count": 27,
   "metadata": {},
   "outputs": [
    {
     "name": "stdout",
     "output_type": "stream",
     "text": [
      "[0.51, 0.52, 0.51, 1.0]\n"
     ]
    },
    {
     "data": {
      "text/plain": [
       "'Медведь'"
      ]
     },
     "execution_count": 27,
     "metadata": {},
     "output_type": "execute_result"
    }
   ],
   "source": [
    "network.predict()"
   ]
  },
  {
   "cell_type": "code",
   "execution_count": null,
   "metadata": {},
   "outputs": [],
   "source": []
  }
 ],
 "metadata": {
  "kernelspec": {
   "display_name": "Python 3",
   "language": "python",
   "name": "python3"
  },
  "language_info": {
   "codemirror_mode": {
    "name": "ipython",
    "version": 3
   },
   "file_extension": ".py",
   "mimetype": "text/x-python",
   "name": "python",
   "nbconvert_exporter": "python",
   "pygments_lexer": "ipython3",
   "version": "3.6.12"
  }
 },
 "nbformat": 4,
 "nbformat_minor": 4
}
